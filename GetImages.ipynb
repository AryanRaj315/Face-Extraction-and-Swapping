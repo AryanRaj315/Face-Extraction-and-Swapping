{
 "cells": [
  {
   "cell_type": "code",
   "execution_count": null,
   "metadata": {},
   "outputs": [],
   "source": [
    "import numpy as np\n",
    "import pandas as pd\n",
    "import urllib.request"
   ]
  },
  {
   "cell_type": "markdown",
   "metadata": {},
   "source": [
    "# Reading image URLs and storing it in a list"
   ]
  },
  {
   "cell_type": "code",
   "execution_count": null,
   "metadata": {},
   "outputs": [],
   "source": [
    "f1 = open('dev_urls.txt', 'r')\n",
    "rows1 = []\n",
    "for line in f1:\n",
    "    # Split on any whitespace (including tab characters)\n",
    "    row = line.split()\n",
    "    rows1.append(row)\n",
    "rows1 = rows1[2:]"
   ]
  },
  {
   "cell_type": "code",
   "execution_count": null,
   "metadata": {},
   "outputs": [],
   "source": [
    "f2 = open('eval_urls.txt', 'r')\n",
    "rows2 = []\n",
    "for line in f2:\n",
    "    # Split on any whitespace (including tab characters)\n",
    "    row = line.split()\n",
    "    rows2.append(row)\n",
    "rows2 = rows2[2:]"
   ]
  },
  {
   "cell_type": "markdown",
   "metadata": {},
   "source": [
    "# Creating a dataframe for Name and Image URL"
   ]
  },
  {
   "cell_type": "code",
   "execution_count": null,
   "metadata": {},
   "outputs": [],
   "source": [
    "df1 = pd.DataFrame(columns = ['Name', 'Image URL'])\n",
    "Name = []\n",
    "URL = []\n",
    "i = 0\n",
    "for row in rows1:\n",
    "    Name = (row[0] + \" \"+ row[1])\n",
    "    URL = (row[3])\n",
    "    df1.loc[i] = (Name, URL)\n",
    "    i += 1\n",
    "dfLength1 = len(df1)"
   ]
  },
  {
   "cell_type": "code",
   "execution_count": null,
   "metadata": {},
   "outputs": [],
   "source": [
    "df2 = pd.DataFrame(columns = ['Name', 'Image URL'])\n",
    "Name = []\n",
    "URL = []\n",
    "i = 0\n",
    "for row in rows2:\n",
    "    Name = (row[0] + \" \"+ row[1])\n",
    "    URL = (row[3])\n",
    "    df2.loc[i] = (Name, URL)\n",
    "    i += 1\n",
    "dfLength2 = len(df2)"
   ]
  },
  {
   "cell_type": "markdown",
   "metadata": {},
   "source": [
    "# Extracting and Saving images"
   ]
  },
  {
   "cell_type": "code",
   "execution_count": null,
   "metadata": {},
   "outputs": [],
   "source": [
    "for i in range(dfLength1):\n",
    "    try:\n",
    "        if df1['Name'].loc[i] == \"Scarlett Johansson\":\n",
    "            urllib.request.urlretrieve(df1['Image URL'][i], str(i)+\".jpg\")\n",
    "    except:\n",
    "        print(df1['Image URL'][i]+\" Not Found\")"
   ]
  },
  {
   "cell_type": "code",
   "execution_count": null,
   "metadata": {},
   "outputs": [],
   "source": [
    "for i in range(dfLength2):\n",
    "    try:\n",
    "        if df2['Name'].loc[i] == \"Gwyneth Paltrow\":\n",
    "            urllib.request.urlretrieve(df2['Image URL'][i], str(i)+\".jpg\")\n",
    "    except:\n",
    "        print(df2['Image URL'][i]+\" Not Found\")"
   ]
  }
 ],
 "metadata": {
  "kernelspec": {
   "display_name": "Python 3",
   "language": "python",
   "name": "python3"
  },
  "language_info": {
   "codemirror_mode": {
    "name": "ipython",
    "version": 3
   },
   "file_extension": ".py",
   "mimetype": "text/x-python",
   "name": "python",
   "nbconvert_exporter": "python",
   "pygments_lexer": "ipython3",
   "version": "3.6.8"
  }
 },
 "nbformat": 4,
 "nbformat_minor": 2
}
